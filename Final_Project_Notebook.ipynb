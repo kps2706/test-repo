{
 "cells": [
  {
   "cell_type": "markdown",
   "id": "347e24a0",
   "metadata": {},
   "source": [
    "# Data Science Tools and Ecosystem"
   ]
  },
  {
   "cell_type": "markdown",
   "id": "549214a8",
   "metadata": {},
   "source": [
    "In this notebook, we will summarize some of the key tools and techniques used in Data Science."
   ]
  },
  {
   "cell_type": "markdown",
   "id": "bc944fa4",
   "metadata": {},
   "source": [
    "## Data Science Languages\n",
    "- Python\n",
    "- R\n",
    "- SQL\n",
    "- Java\n",
    "- Julia"
   ]
  },
  {
   "cell_type": "markdown",
   "id": "b6b86fe5",
   "metadata": {},
   "source": [
    "## Data Science Libraries\n",
    "- Pandas\n",
    "- NumPy\n",
    "- Matplotlib\n",
    "- Scikit-learn\n",
    "- TensorFlow"
   ]
  },
  {
   "cell_type": "markdown",
   "id": "d2408258",
   "metadata": {},
   "source": [
    "## Table of Data Science Tools\n",
    "| Tool | Description |\n",
    "|------|-------------|\n",
    "| Jupyter | Interactive notebooks |\n",
    "| RStudio | IDE for R |\n",
    "| Apache Spark | Big data processing |\n",
    "| VS Code | Code editor |\n",
    "| Tableau | Data visualization tool |"
   ]
  },
  {
   "cell_type": "markdown",
   "id": "842c1208",
   "metadata": {},
   "source": [
    "## Arithmetic Expressions in Python\n",
    "Below are examples of arithmetic expressions like addition and multiplication."
   ]
  },
  {
   "cell_type": "code",
   "execution_count": null,
   "id": "eb77c651",
   "metadata": {},
   "outputs": [],
   "source": [
    "# This is a simple arithmetic expression to multiply then add numbers\n",
    "(5 * 4) + 3"
   ]
  },
  {
   "cell_type": "code",
   "execution_count": null,
   "id": "dba980ef",
   "metadata": {},
   "outputs": [],
   "source": [
    "# This will convert 200 minutes to hours by dividing by 60\n",
    "minutes = 200\n",
    "hours = minutes / 60\n",
    "hours"
   ]
  },
  {
   "cell_type": "markdown",
   "id": "0c739427",
   "metadata": {},
   "source": [
    "## Objectives\n",
    "- List popular languages for Data Science\n",
    "- List commonly used libraries\n",
    "- Demonstrate basic arithmetic expressions\n",
    "- Convert time using Python"
   ]
  },
  {
   "cell_type": "markdown",
   "id": "1f690bab",
   "metadata": {},
   "source": [
    "**Author:** Kumar Prabhakar Singh"
   ]
  },
  {
   "cell_type": "markdown",
   "id": "38adbbd8",
   "metadata": {},
   "source": [
    "**GitHub Link:** [Add your public notebook link here]"
   ]
  },
  {
   "cell_type": "markdown",
   "id": "09351e58",
   "metadata": {},
   "source": [
    "**Screenshot:** Please attach the screenshot of the first page here."
   ]
  }
 ],
 "metadata": {},
 "nbformat": 4,
 "nbformat_minor": 5
}
